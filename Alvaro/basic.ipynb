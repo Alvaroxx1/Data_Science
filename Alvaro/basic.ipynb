{
 "cells": [
  {
   "cell_type": "markdown",
   "id": "567f1d22-fbb3-4494-9d6b-32d95e45ba8c",
   "metadata": {},
   "source": [
    "# Basic Concepts"
   ]
  },
  {
   "cell_type": "markdown",
   "id": "95c61b68-91a1-484f-96f0-bc252e598da0",
   "metadata": {},
   "source": [
    "Printing"
   ]
  },
  {
   "cell_type": "code",
   "execution_count": 11,
   "id": "338f51b4-792b-4cf1-b3cd-6182c84d8e2c",
   "metadata": {},
   "outputs": [
    {
     "name": "stdout",
     "output_type": "stream",
     "text": [
      "The year: 2020\n"
     ]
    }
   ],
   "source": [
    "print('The year: {year}'.format(year=2020))"
   ]
  },
  {
   "cell_type": "markdown",
   "id": "2a99a013-4c49-4c2d-b90a-c3bb1c8dbd80",
   "metadata": {},
   "source": [
    "Dictionary"
   ]
  },
  {
   "cell_type": "code",
   "execution_count": 8,
   "id": "d5345482-9042-4127-98c1-4ec71628684e",
   "metadata": {},
   "outputs": [
    {
     "name": "stdout",
     "output_type": "stream",
     "text": [
      "Poncho\n"
     ]
    }
   ],
   "source": [
    "d = {'Dog':'Poncho','Dog2':'Poncha'}\n",
    "print(d['Dog'])"
   ]
  },
  {
   "cell_type": "markdown",
   "id": "4e6b0b5e-a218-4791-a23f-abc40bb27d11",
   "metadata": {},
   "source": [
    "List"
   ]
  },
  {
   "cell_type": "code",
   "execution_count": 15,
   "id": "8a831bc8-cf8c-40a9-b9d6-6c00a10cf74e",
   "metadata": {},
   "outputs": [
    {
     "name": "stdout",
     "output_type": "stream",
     "text": [
      "[1, 4, 9, 16]\n"
     ]
    }
   ],
   "source": [
    "x = [1,2,3,4]\n",
    "out = []\n",
    "for i in x:\n",
    "    out.append(i**2)\n",
    "print(out)"
   ]
  },
  {
   "cell_type": "markdown",
   "id": "93d5daea-3593-4174-8110-ec20f37e9611",
   "metadata": {},
   "source": [
    "Map"
   ]
  },
  {
   "cell_type": "code",
   "execution_count": 19,
   "id": "587167dc-bec5-4269-83f9-b0a79db33b25",
   "metadata": {},
   "outputs": [
    {
     "data": {
      "text/plain": [
       "[2, 4, 6, 8]"
      ]
     },
     "execution_count": 19,
     "metadata": {},
     "output_type": "execute_result"
    }
   ],
   "source": [
    "def times2(var):\n",
    "    return var*2\n",
    "\n",
    "seq = [1,2,3,4]\n",
    "#list(map(times2,seq))\n",
    "list(map(lambda num:num*2,seq))"
   ]
  },
  {
   "cell_type": "code",
   "execution_count": 22,
   "id": "08f1aaf9-f6c3-4b46-911e-ffad868c956a",
   "metadata": {},
   "outputs": [
    {
     "data": {
      "text/plain": [
       "[2, 4]"
      ]
     },
     "execution_count": 22,
     "metadata": {},
     "output_type": "execute_result"
    }
   ],
   "source": [
    "list(filter(lambda num: num%2==0,seq))"
   ]
  },
  {
   "cell_type": "markdown",
   "id": "d064827d-79e1-4e69-949b-87d474489cd1",
   "metadata": {},
   "source": [
    "Methods"
   ]
  },
  {
   "cell_type": "code",
   "execution_count": 28,
   "id": "cbc6102a-a682-4878-9bb2-b01c186d5d27",
   "metadata": {},
   "outputs": [
    {
     "data": {
      "text/plain": [
       "'Alvaro'"
      ]
     },
     "execution_count": 28,
     "metadata": {},
     "output_type": "execute_result"
    }
   ],
   "source": [
    "st = 'My name is #Alvaro'\n",
    "st.split('#')[1]"
   ]
  },
  {
   "cell_type": "code",
   "execution_count": 29,
   "id": "1baaa86b-4f6c-470d-bfdb-0f440a8ebac3",
   "metadata": {},
   "outputs": [
    {
     "data": {
      "text/plain": [
       "{'Dog': 'Poncho', 'Dog2': 'Poncha'}"
      ]
     },
     "execution_count": 29,
     "metadata": {},
     "output_type": "execute_result"
    }
   ],
   "source": [
    "d"
   ]
  },
  {
   "cell_type": "code",
   "execution_count": 31,
   "id": "a0f927c2-0e87-497e-a914-742492345b6e",
   "metadata": {},
   "outputs": [
    {
     "name": "stdout",
     "output_type": "stream",
     "text": [
      "dict_keys(['Dog', 'Dog2'])\n",
      "dict_items([('Dog', 'Poncho'), ('Dog2', 'Poncha')])\n"
     ]
    }
   ],
   "source": [
    "print(d.keys())\n",
    "print(d.items())"
   ]
  },
  {
   "cell_type": "markdown",
   "id": "aea47b1b-fa65-443a-8b5b-4fcb2cb7be45",
   "metadata": {},
   "source": [
    "---"
   ]
  },
  {
   "cell_type": "markdown",
   "id": "d84f7179-b4a0-4527-a32e-7497fffbc90a",
   "metadata": {},
   "source": [
    "### Array"
   ]
  },
  {
   "cell_type": "code",
   "execution_count": 36,
   "id": "c28a394a-0358-4b77-8c80-8eb8ad82da47",
   "metadata": {},
   "outputs": [
    {
     "data": {
      "text/plain": [
       "array([1, 2, 3])"
      ]
     },
     "execution_count": 36,
     "metadata": {},
     "output_type": "execute_result"
    }
   ],
   "source": [
    "import numpy as np\n",
    "m_list = [1,2,3]\n",
    "np.array(m_list)"
   ]
  },
  {
   "cell_type": "code",
   "execution_count": 38,
   "id": "3a8785f0-bc5c-4a50-ae47-79314f31efc4",
   "metadata": {},
   "outputs": [
    {
     "data": {
      "text/plain": [
       "array([[1, 2, 3],\n",
       "       [4, 5, 6],\n",
       "       [7, 8, 9]])"
      ]
     },
     "execution_count": 38,
     "metadata": {},
     "output_type": "execute_result"
    }
   ],
   "source": [
    "matrix = [[1,2,3],[4,5,6],[7,8,9]]\n",
    "np.array(matrix)"
   ]
  },
  {
   "cell_type": "markdown",
   "id": "1e9e56cb-4644-4d98-b8a8-2aaee628eef0",
   "metadata": {},
   "source": [
    "Methods"
   ]
  },
  {
   "cell_type": "code",
   "execution_count": 41,
   "id": "b0cde020-4fd9-4720-806e-bdf99249cf4f",
   "metadata": {},
   "outputs": [
    {
     "data": {
      "text/plain": [
       "array([ 0,  2,  4,  6,  8, 10])"
      ]
     },
     "execution_count": 41,
     "metadata": {},
     "output_type": "execute_result"
    }
   ],
   "source": [
    "#High exclusive\n",
    "np.arange(0,11,2)"
   ]
  },
  {
   "cell_type": "code",
   "execution_count": 42,
   "id": "db07b12e-3afa-4054-9f69-2a4bc2b5bc0b",
   "metadata": {},
   "outputs": [
    {
     "data": {
      "text/plain": [
       "array([[0., 0., 0.],\n",
       "       [0., 0., 0.],\n",
       "       [0., 0., 0.]])"
      ]
     },
     "execution_count": 42,
     "metadata": {},
     "output_type": "execute_result"
    }
   ],
   "source": [
    "np.zeros((3,3))"
   ]
  },
  {
   "cell_type": "code",
   "execution_count": 43,
   "id": "660b7c9c-7779-4860-b59b-dd3744f11812",
   "metadata": {},
   "outputs": [
    {
     "data": {
      "text/plain": [
       "array([ 0.        ,  0.20408163,  0.40816327,  0.6122449 ,  0.81632653,\n",
       "        1.02040816,  1.2244898 ,  1.42857143,  1.63265306,  1.83673469,\n",
       "        2.04081633,  2.24489796,  2.44897959,  2.65306122,  2.85714286,\n",
       "        3.06122449,  3.26530612,  3.46938776,  3.67346939,  3.87755102,\n",
       "        4.08163265,  4.28571429,  4.48979592,  4.69387755,  4.89795918,\n",
       "        5.10204082,  5.30612245,  5.51020408,  5.71428571,  5.91836735,\n",
       "        6.12244898,  6.32653061,  6.53061224,  6.73469388,  6.93877551,\n",
       "        7.14285714,  7.34693878,  7.55102041,  7.75510204,  7.95918367,\n",
       "        8.16326531,  8.36734694,  8.57142857,  8.7755102 ,  8.97959184,\n",
       "        9.18367347,  9.3877551 ,  9.59183673,  9.79591837, 10.        ])"
      ]
     },
     "execution_count": 43,
     "metadata": {},
     "output_type": "execute_result"
    }
   ],
   "source": [
    "np.linspace(0,10,50)"
   ]
  },
  {
   "cell_type": "markdown",
   "id": "1a735342-1680-4be6-af56-61c225a38358",
   "metadata": {},
   "source": [
    "Random"
   ]
  },
  {
   "cell_type": "code",
   "execution_count": 52,
   "id": "2df85938-057c-4413-b41c-753f01d80240",
   "metadata": {},
   "outputs": [
    {
     "name": "stdout",
     "output_type": "stream",
     "text": [
      "[[-0.50349752 -0.51777262]\n",
      " [ 1.1896623  -0.20162796]]\n",
      "[80 70 36 78 66 59 68  1 61 65]\n"
     ]
    }
   ],
   "source": [
    "#standard normal\n",
    "print(np.random.randn(2,2))\n",
    "#random integers - high (exclusive)\n",
    "print(np.random.randint(1,100,10))"
   ]
  },
  {
   "cell_type": "code",
   "execution_count": 69,
   "id": "6332f6f9-c674-4d3b-a2a9-01299c04f6ce",
   "metadata": {},
   "outputs": [
    {
     "name": "stdout",
     "output_type": "stream",
     "text": [
      "[[ 0  1  2  3  4]\n",
      " [ 5  6  7  8  9]\n",
      " [10 11 12 13 14]\n",
      " [15 16 17 18 19]\n",
      " [20 21 22 23 24]]\n",
      "\n",
      "[[13 10 38 40 49]\n",
      " [36 40 10  1  4]]\n"
     ]
    }
   ],
   "source": [
    "arr = np.arange(25)\n",
    "ranarr = np.random.randint(0,50,10)\n",
    "print(arr.reshape(5,5))\n",
    "print()\n",
    "print(ranarr.reshape(2,5))"
   ]
  },
  {
   "cell_type": "code",
   "execution_count": 75,
   "id": "8299142d-d38e-4702-818e-6becd1a2d3ba",
   "metadata": {},
   "outputs": [
    {
     "name": "stdout",
     "output_type": "stream",
     "text": [
      "[13 10]\n",
      "[9 9 9 9 9 9 9 9 9 9]\n"
     ]
    }
   ],
   "source": [
    "print(ranarr[0:2])\n",
    "ranarr[:]=9\n",
    "print(ranarr)"
   ]
  },
  {
   "cell_type": "markdown",
   "id": "e93468fa-d94c-469a-811f-bc9f0a7eb25b",
   "metadata": {},
   "source": [
    "Selection"
   ]
  },
  {
   "cell_type": "code",
   "execution_count": 80,
   "id": "2ff4780c-13f9-4b83-9d7f-c09b20df86cc",
   "metadata": {},
   "outputs": [
    {
     "data": {
      "text/plain": [
       "array([15, 68, 85, 99, 52, 68, 86, 34, 44, 84])"
      ]
     },
     "execution_count": 80,
     "metadata": {},
     "output_type": "execute_result"
    }
   ],
   "source": [
    "arr = np.random.randint(0,100,10)\n",
    "arr"
   ]
  },
  {
   "cell_type": "code",
   "execution_count": 81,
   "id": "fbb509db-e26c-4709-8b03-6bb2f81c2841",
   "metadata": {},
   "outputs": [
    {
     "name": "stdout",
     "output_type": "stream",
     "text": [
      "[False  True  True  True False  True  True False False  True]\n"
     ]
    }
   ],
   "source": [
    "bool_arr = arr>60\n",
    "print(bool_arr)"
   ]
  },
  {
   "cell_type": "code",
   "execution_count": 83,
   "id": "cadc1010-fa0b-4a2e-b62d-b84bac83705c",
   "metadata": {},
   "outputs": [
    {
     "data": {
      "text/plain": [
       "array([68, 85, 99, 68, 86, 84])"
      ]
     },
     "execution_count": 83,
     "metadata": {},
     "output_type": "execute_result"
    }
   ],
   "source": [
    "arr[arr>60]"
   ]
  },
  {
   "cell_type": "code",
   "execution_count": null,
   "id": "919973cf-2752-4b6b-bc6b-4f8296a7ab35",
   "metadata": {},
   "outputs": [],
   "source": []
  }
 ],
 "metadata": {
  "kernelspec": {
   "display_name": "Python 3 (ipykernel)",
   "language": "python",
   "name": "python3"
  },
  "language_info": {
   "codemirror_mode": {
    "name": "ipython",
    "version": 3
   },
   "file_extension": ".py",
   "mimetype": "text/x-python",
   "name": "python",
   "nbconvert_exporter": "python",
   "pygments_lexer": "ipython3",
   "version": "3.10.9"
  }
 },
 "nbformat": 4,
 "nbformat_minor": 5
}
